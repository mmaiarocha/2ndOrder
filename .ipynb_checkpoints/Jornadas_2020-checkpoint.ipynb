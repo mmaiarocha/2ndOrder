{
 "cells": [
  {
   "cell_type": "markdown",
   "metadata": {},
   "source": [
    "Universidade Federal do Rio Grande do Sul (UFRGS)   \n",
    "Programa de Pós-Graduação em Engenharia Civil (PPGEC)   \n",
    "\n",
    "# Efeito de segunda ordem na frequência fundamental de torres esbeltas\n",
    "\n",
    "[1.   Introdução](#section_1)  \n",
    "[2.   Soluções analíticas exatas e aproximadas](#section_2)  \n",
    "[3.   Solução numérica com matrix de rigidez geométrica](#section_3)  \n",
    "[4.   Modelo experimental](#section_4)  \n",
    "[5.   Comparação de resultados](#section_5)  \n",
    "[6.   Conclusões](#section_6)  \n",
    "\n",
    "---\n",
    "_Prof. Marcelo M. Rocha, Dr.techn._ [(ORCID)](https://orcid.org/0000-0001-5640-1020)  \n",
    "_Porto Alegre, RS, Brazil_ \n"
   ]
  },
  {
   "cell_type": "code",
   "execution_count": 1,
   "metadata": {},
   "outputs": [],
   "source": [
    "# Importing Python modules required for this notebook\n",
    "# (this cell must be executed with \"shift+enter\" before any other Python cell)\n",
    "\n",
    "import numpy as np\n",
    "import matplotlib.pyplot as plt\n",
    "import pickle as pk\n",
    "\n",
    "# Module for system matrices calculation\n",
    "from  FEM_column import *\n"
   ]
  },
  {
   "cell_type": "markdown",
   "metadata": {},
   "source": [
    "## 1. Introdução <a name=\"section_1\"></a> \n",
    "\n",
    "1. A principal carga em torres é o vento.\n",
    "2. Torres esbeltas tem resposta ressonante importante.\n",
    "3. A resposta ressonante depende da frequência fundamental da torre.\n",
    "4. Algumas torres tem grande massa adicionada ao topo (mirantes, antenas, etc.)\n",
    "5. Massas adicionais causam um efeito de segunda ordem na resposta em vibração livre.\n",
    "6. Neste caso resposta dinâmica à ação do vento deve considerar uma frequência reduzida.\n"
   ]
  },
  {
   "cell_type": "markdown",
   "metadata": {},
   "source": [
    "## 2. Soluções analíticas aproximadas <a name=\"section_2\"></a> \n",
    "\n",
    "Para torres esbeltas de seção constante é conhecida a solução analítica para a \n",
    "frequência natural de vibração livre associada ao modo fundamental:\n",
    "\n",
    "$$ f_{\\rm n} = \\frac{1}{2\\pi} \\left( \\frac{1.8751}{H} \\right)^2 \\sqrt{\\frac{EI}{\\mu}} $$\n",
    "\n",
    "onde H é a altura da torre, $EI$ é a rigidez à flexão, e $\\mu$ é a massa por unidade\n",
    "de comprimento. A constante 1.8751 é aproximada e consiste na menor raiz não nula e \n",
    "positiva, $a$, da equação característica:\n",
    "\n",
    "$$ \\cos(a) \\cosh(a) + 1 = 0 $$\n",
    "\n",
    "As demais soluções positivas estão associadas à modos superiores que não serão \n",
    "considerados neste trabalho. \n",
    "\n",
    "A frequência fundamental pode ser calculada com esta fórmula para as três hastes \n",
    "de alumínio com seção transversal 2cm $\\times$ 0,5mm e com comprimentos 22, 30 e 38cm, \n",
    "respectivamente, que são utilizadas na parte experimental deste trabalho. Assim temos:\n"
   ]
  },
  {
   "cell_type": "code",
   "execution_count": 66,
   "metadata": {},
   "outputs": [
    {
     "name": "stdout",
     "output_type": "stream",
     "text": [
      "Rigidez da seção transversal à flexão: 0.0150Nm²\n",
      "Massa por unidade de comprimento:      0.0270kg/m\n"
     ]
    }
   ],
   "source": [
    "# Seção transversal em alumínio\n",
    "EI  =   7.2e10*(0.020*0.0005**3)/12\n",
    "mu  =   2.7e03*(0.020*0.0005)\n",
    "\n",
    "print('Rigidez da seção transversal à flexão: {0:6.4f}Nm²'.format(EI)) \n",
    "print('Massa por unidade de comprimento:      {0:6.4f}kg/m'.format(mu)) \n"
   ]
  },
  {
   "cell_type": "markdown",
   "metadata": {},
   "source": [
    "Aplicando-se então a fórmula para os três comprimentos de haste a serem estudados tem-se:\n"
   ]
  },
  {
   "cell_type": "code",
   "execution_count": 52,
   "metadata": {},
   "outputs": [
    {
     "name": "stdout",
     "output_type": "stream",
     "text": [
      "Frequência fundamental para a haste de 22cm:  8.62Hz\n",
      "Frequência fundamental para a haste de 30cm:  4.63Hz\n",
      "Frequência fundamental para a haste de 38cm:  2.89Hz\n"
     ]
    }
   ],
   "source": [
    "H22 =   0.22\n",
    "H30 =   0.30\n",
    "H38 =   0.38\n",
    "\n",
    "f0  =   np.sqrt(EI/mu)/(2*np.pi)\n",
    "\n",
    "f22 = ((1.875/H22)**2)*f0\n",
    "f30 = ((1.875/H30)**2)*f0\n",
    "f38 = ((1.875/H38)**2)*f0\n",
    "\n",
    "print('Frequência fundamental para a haste de 22cm: {0:5.2f}Hz'.format(f22)) \n",
    "print('Frequência fundamental para a haste de 30cm: {0:5.2f}Hz'.format(f30)) \n",
    "print('Frequência fundamental para a haste de 38cm: {0:5.2f}Hz'.format(f38)) \n"
   ]
  },
  {
   "cell_type": "markdown",
   "metadata": {},
   "source": [
    "É importante lembrar que o resultado acima desconsidera o efeito de segunda ordem \n",
    "decorrente do peso próprio da torre ou do acréscimo de qualquer massa adicional.\n",
    "\n",
    "Como este trabalho tem como objetivo justamente a quantificação do efeito \n",
    "de segunda ordem na frequência fundamental, determina-se a seguir as cargas críticas \n",
    "de flambagem elástica (carga de Euler) para os três comprimentos de haste utilizados\n",
    "na parte experimental. \n",
    "Estas cargas correspondem ao peso da maior massa que pode ser acrescentada ao topo \n",
    "das hastes e serão posteriormente utilizadas como parâmetro de adimensionalização. \n"
   ]
  },
  {
   "cell_type": "code",
   "execution_count": 55,
   "metadata": {},
   "outputs": [
    {
     "name": "stdout",
     "output_type": "stream",
     "text": [
      "Carga crítica para a haste de 22cm: 0.765N (78.0g)\n",
      "Carga crítica para a haste de 30cm: 0.411N (41.9g)\n",
      "Carga crítica para a haste de 38cm: 0.256N (26.1g)\n"
     ]
    }
   ],
   "source": [
    "r0  =   0.0005/np.sqrt(12)               # raio de giração\n",
    "P0  =  (np.pi**2)*7.2E10*(0.020*0.0005)  # numerador da fórmula de Euler\n",
    "\n",
    "P22 =   P0/(2*H22/r0)**2\n",
    "P30 =   P0/(2*H30/r0)**2\n",
    "P38 =   P0/(2*H38/r0)**2\n",
    "\n",
    "print('Carga crítica para a haste de 22cm: {0:5.3f}N ({1:4.1f}g)'.format(P22, 1000*P22/9.81)) \n",
    "print('Carga crítica para a haste de 30cm: {0:5.3f}N ({1:4.1f}g)'.format(P30, 1000*P30/9.81)) \n",
    "print('Carga crítica para a haste de 38cm: {0:5.3f}N ({1:4.1f}g)'.format(P38, 1000*P38/9.81)) \n"
   ]
  },
  {
   "cell_type": "markdown",
   "metadata": {},
   "source": [
    "Para o cálculo analítico da frequência fundamental com o acréscimo de uma massa no topo\n",
    "da torre pode ser utilizado o método do quociente de Rayleigh, que representa um \n",
    "estimador da frequência natural de vibração livre e é dado pela relação entre a \n",
    "energia potencial elástica, $V$,  e a energia cinética de referência, $T_{\\rm ref}$:\n",
    "\n",
    "$$ f_{\\rm n} \\leq \\frac{1}{2\\pi} \\sqrt{\\frac{V}{T_{\\rm ref}}} $$\n",
    "\n",
    "O cálculo destas energias requer a definição de uma função de interpolação para \n",
    "a linha elástica, tão próxima quanto possível da forma modal. Por exemplo, a solução \n",
    "da linha elástica para uma carga horizontal no topo é muito semelhante ao primeiro\n",
    "modo de vibração livre:\n",
    "\n",
    "$$ \\varphi(\\xi) = \\frac{1}{2}\\left(3\\xi^2 - \\xi^3\\right)$$\n",
    "\n",
    "com $\\xi = z/H$ sendo a coordenada vertical adimensionalizada. Note-se que esta \n",
    "função de interpolação  está normalizada para deslocamento unitário no topo. \n",
    "Uma vez escolhida a função $\\varphi(\\xi)$, as energias $V$ e $T_{\\rm ref}$ são \n",
    "calculadas como:\n",
    "\n",
    "\\begin{align*}\n",
    " V           &= \\frac{1}{2} \\int_0^H { EI \\left[ \\varphi^{\\prime\\prime}(z) \\right] ^2 \\, dz} \\\\\n",
    " T_{\\rm ref} &= \\frac{1}{2} \\int_0^H {\\mu \\left[ \\varphi(z) \\right] ^2 \\, dz} \n",
    "\\end{align*}\n",
    "\n",
    "Para as três hastes utilizadas na parte experimental deste trabalho as frequências\n",
    "obtidas por este método estão apresentadas abaixo:\n"
   ]
  },
  {
   "cell_type": "code",
   "execution_count": 64,
   "metadata": {},
   "outputs": [
    {
     "name": "stdout",
     "output_type": "stream",
     "text": [
      "Frequência fundamental para a haste de 22cm:   8.74Hz\n",
      "Erro de aproximação:                           1.47%\n",
      "\n",
      "Frequência fundamental para a haste de 30cm:   4.70Hz\n",
      "Erro de aproximação:                           1.47%\n",
      "\n",
      "Frequência fundamental para a haste de 38cm:   2.93Hz\n",
      "Erro de aproximação:                           1.47%\n"
     ]
    }
   ],
   "source": [
    "phi  =  lambda z: (3*(z/H)**2 - (z/H)**3)/2   # função de interpolação\n",
    "ph1  =  lambda z: (6*(z/H) - 3*(z/H)**2)/2/H  # primeira derivada = rotação\n",
    "ph2  =  lambda z: (6 - 6*(z/H))/2/(H**2)      # segunda derivada = curvatura\n",
    "\n",
    "n    =  100  # número de segmentos de discretização\n",
    "\n",
    "H    =  H22\n",
    "zi   =  np.linspace(0, H22, n)\n",
    "V    =  np.trapz(ph2(zi)**2, dx=H22/n)*(EI/2) \n",
    "Tr   =  np.trapz(phi(zi)**2, dx=H22/n)*(mu/2) \n",
    "f22r =  np.sqrt(V/Tr)/(2*np.pi)\n",
    "er22 = (f22r - f22)*100/f22\n",
    "\n",
    "H    =  H30\n",
    "zi   =  np.linspace(0, H30, n)\n",
    "V    =  np.trapz(ph2(zi)**2, dx=H30/n)*(EI/2) \n",
    "Tr   =  np.trapz(phi(zi)**2, dx=H30/n)*(mu/2) \n",
    "f30r =  np.sqrt(V/Tr)/(2*np.pi)\n",
    "er30 = (f30r - f30)*100/f30\n",
    "\n",
    "H    =  H38\n",
    "zi   =  np.linspace(0, H38, n)\n",
    "V    =  np.trapz(ph2(zi)**2, dx=H38/n)*(EI/2) \n",
    "Tr   =  np.trapz(phi(zi)**2, dx=H38/n)*(mu/2) \n",
    "f38r =  np.sqrt(V/Tr)/(2*np.pi)\n",
    "er38 = (f38r - f38)*100/f38\n",
    "\n",
    "print('Frequência fundamental para a haste de 22cm: {0:6.2f}Hz'.format(f22r)) \n",
    "print('Erro de aproximação:                         {0:6.2f}%'.format(er22)) \n",
    "print('')\n",
    "print('Frequência fundamental para a haste de 30cm: {0:6.2f}Hz'.format(f30r)) \n",
    "print('Erro de aproximação:                         {0:6.2f}%'.format(er30)) \n",
    "print('')\n",
    "print('Frequência fundamental para a haste de 38cm: {0:6.2f}Hz'.format(f38r)) \n",
    "print('Erro de aproximação:                         {0:6.2f}%'.format(er38)) \n"
   ]
  },
  {
   "cell_type": "markdown",
   "metadata": {},
   "source": [
    "Portanto, o erro é de apenas 1,5% para a função de interpolação proposta, a qual\n",
    "intencionalmente difere da linha elástica associada ao modo fundamental. \n",
    "Contudo, na medida em que se acrescente massa no topo este erro tende a diminuir,\n",
    "já que as hastes neste caso serão de fato submetida a uma carga inercial \n",
    "concentrada no topo, cuja linha elástica tenderá então à função proposta.\n",
    "\n",
    "A grande vantagem do uso do quociente de Rayleigh é a fácil introdução de massas\n",
    "adicionais no denominador, as quais devem ser multiplicadas pelos respectivos valores\n",
    "da função de interpolação nas posições em que se encontram. Por exemplo, uma massa\n",
    "adicional no topo, $M_1$, deve ser multiplicada pelo valor $\\left[\\varphi(H/H)\\right]^2 = 1^2$\n",
    "e neste  caso a energia cinética de referência fica:\n",
    "\n",
    "$$ T_{\\rm ref} = \\frac{1}{2} \\left( \\int_0^H {\\mu \\left[ \\varphi(z) \\right] ^2 \\, dz}\n",
    "               +  M_1 \\cdot 1^2 \\right) $$\n",
    "\n",
    "A título de exemplo, vamos aplicar a equação acima às hastes utilizadas na parte\n",
    "experimental deste trabalho. Em cada caso admite-se que a massa adicionada no topo\n",
    "corresponde à 50% da carga crítica de flambagem:\n"
   ]
  },
  {
   "cell_type": "code",
   "execution_count": 67,
   "metadata": {},
   "outputs": [
    {
     "name": "stdout",
     "output_type": "stream",
     "text": [
      "Frequência para a haste de 22cm com massa no topo:   1.62Hz\n",
      "Frequência para a haste de 30cm com massa no topo:   1.35Hz\n",
      "Frequência para a haste de 38cm com massa no topo:   1.15Hz\n"
     ]
    }
   ],
   "source": [
    "H    =  H22\n",
    "zi   =  np.linspace(0, H22, n)\n",
    "V    =  np.trapz(ph2(zi)**2, dx=H22/n)*(EI/2) \n",
    "Tr   =  np.trapz(phi(zi)**2, dx=H22/n)*(mu/2) + (0.5*P22/9.81)/2\n",
    "f22M =  np.sqrt(V/Tr)/(2*np.pi)\n",
    "\n",
    "H    =  H30\n",
    "zi   =  np.linspace(0, H30, n)\n",
    "V    =  np.trapz(ph2(zi)**2, dx=H30/n)*(EI/2) \n",
    "Tr   =  np.trapz(phi(zi)**2, dx=H30/n)*(mu/2) + (0.5*P30/9.81)/2\n",
    "f30M =  np.sqrt(V/Tr)/(2*np.pi)\n",
    "\n",
    "H    =  H38\n",
    "zi   =  np.linspace(0, H38, n)\n",
    "V    =  np.trapz(ph2(zi)**2, dx=H38/n)*(EI/2) \n",
    "Tr   =  np.trapz(phi(zi)**2, dx=H38/n)*(mu/2) + (0.5*P38/9.81)/2\n",
    "f38M =  np.sqrt(V/Tr)/(2*np.pi)\n",
    "\n",
    "print('Frequência para a haste de 22cm com massa no topo: {0:6.2f}Hz'.format(f22M)) \n",
    "print('Frequência para a haste de 30cm com massa no topo: {0:6.2f}Hz'.format(f30M)) \n",
    "print('Frequência para a haste de 38cm com massa no topo: {0:6.2f}Hz'.format(f38M)) \n"
   ]
  },
  {
   "cell_type": "markdown",
   "metadata": {},
   "source": [
    "Embora o cálculo acima considere, com excelente precisão, a massa adicional presente\n",
    "no topo de uma torre, ele ainda não inclui o efeito de segunda ordem devido à compressão\n",
    "decorrente de uma carga compressiva elevada. Para isso é necessário incluir-se também \n",
    "uma modificação no cálculo da energia potencial elástica do sistema, de modo a se considerar \n",
    "a deformação axial adicional.\n"
   ]
  },
  {
   "cell_type": "markdown",
   "metadata": {},
   "source": [
    "## 3. Solução numérica com matriz de rigidez geométrica <a name=\"section_3\"></a> \n",
    "\n",
    "### 3.1. Matriz de rigidez elástica  <a name=\"section_31\"></a> \n",
    "\n",
    "<table>\n",
    " <tr>\n",
    "   <td><img src=\"resources/tower.png\"    alt=\"Tower model\"    width=\"240px\"/></td>\n",
    "   <td><img src=\"resources/element.png\"  alt=\"Finite element\" width=\"240px\"/></td>\n",
    " </tr>\n",
    "</table> \n",
    "\n",
    "\n",
    "$$ \\mathbf{K} = \\frac{EI}{L^3} \\;\n",
    "                \\left[ \\begin{array}{cccc}\n",
    "                  12 &   6L   &  -12  &  6L   \\\\\n",
    "                  6L &   4L^2 &  -6L  &  2L^2 \\\\\n",
    "                 -12 &  -6L   &   12  & -6L   \\\\\n",
    "                  6L &   2L^2 &  -6L  &  4L^2\n",
    "                 \\end{array} \\right] $$\n"
   ]
  },
  {
   "cell_type": "code",
   "execution_count": 3,
   "metadata": {},
   "outputs": [
    {
     "data": {
      "image/png": "[encoded data removed]",
      "text/plain": [
       "<Figure size 864x288 with 3 Axes>"
      ]
     },
     "metadata": {
      "needs_background": "light"
     },
     "output_type": "display_data"
    }
   ],
   "source": [
    "EI  = 7.2e10*(0.020*0.0005**3)/12\n",
    "\n",
    "# Discretiza lâminas de alumínio\n",
    "L22 = 0.01*np.ones(22)\n",
    "L30 = 0.01*np.ones(30)\n",
    "L38 = 0.01*np.ones(38)\n",
    "\n",
    "# Matrizes de rigidez elásticas in N/m\n",
    "KE22 = stiffness(L22, EI)\n",
    "KE30 = stiffness(L30, EI)\n",
    "KE38 = stiffness(L38, EI)\n",
    "\n",
    "# Visualização das matrizes\n",
    "fig1, ax = plt.subplots(1, 3, figsize=(12,4))\n",
    "plt.suptitle('Stiffness Matrices', fontweight='bold', fontsize=16)\n",
    "\n",
    "hax0 = ax[0].imshow(KE22); tax0 = ax[0].title.set_text(\"K for 22cm blade\")\n",
    "hax1 = ax[1].imshow(KE30); tax1 = ax[1].title.set_text(\"K for 30cm blade\")\n",
    "hax2 = ax[2].imshow(KE38); tax2 = ax[2].title.set_text(\"K for 38cm blade\")\n"
   ]
  },
  {
   "cell_type": "markdown",
   "metadata": {},
   "source": [
    "### 3.2. Matriz de rigidez geométrica <a name=\"section_32\"></a> \n",
    "\n",
    "$$ \\mathbf{K_{\\rm G}} = \\frac{P}{30L} \\; \n",
    "                        \\left[ \\begin{array}{cccc}\n",
    "                         36   &  3L    & -36  &  3L   \\\\\n",
    "                         3L   &  4L^2  & -3L  & -L^2  \\\\\n",
    "                        -36   & -3L    &  36  & -3L   \\\\\n",
    "                         3L   & -L^2   & -3L  & 4L^2\n",
    "                        \\end{array} \\right] $$\n"
   ]
  },
  {
   "cell_type": "code",
   "execution_count": 4,
   "metadata": {
    "scrolled": true
   },
   "outputs": [
    {
     "data": {
      "image/png": "[encoded data removed]",
      "text/plain": [
       "<Figure size 864x288 with 3 Axes>"
      ]
     },
     "metadata": {
      "needs_background": "light"
     },
     "output_type": "display_data"
    }
   ],
   "source": [
    "# Matrizes de rigidez geométricas in N/m\n",
    "KG22 = stiffness(L22, EI=0, P=-P22)\n",
    "KG30 = stiffness(L30, EI=0, P=-P30)\n",
    "KG38 = stiffness(L38, EI=0, P=-P38)\n",
    "\n",
    "# Visualização das matrizes\n",
    "fig2, ax = plt.subplots(1, 3, figsize=(12,4))\n",
    "plt.suptitle('Geometric Matrices', fontweight='bold', fontsize=16)\n",
    "\n",
    "hax0 = ax[0].imshow(KG22); tax0 = ax[0].title.set_text(\"K for 22cm blade\")\n",
    "hax1 = ax[1].imshow(KG30); tax1 = ax[1].title.set_text(\"K for 30cm blade\")\n",
    "hax2 = ax[2].imshow(KG38); tax2 = ax[2].title.set_text(\"K for 38cm blade\")\n"
   ]
  },
  {
   "cell_type": "markdown",
   "metadata": {},
   "source": [
    "Sobrepondo as matrizes elástica e geométrica tem-se a matriz de rigidez com \n",
    "efeito de segunda ordem:\n"
   ]
  },
  {
   "cell_type": "code",
   "execution_count": 5,
   "metadata": {},
   "outputs": [
    {
     "data": {
      "image/png": "[encoded data removed]",
      "text/plain": [
       "<Figure size 864x288 with 3 Axes>"
      ]
     },
     "metadata": {
      "needs_background": "light"
     },
     "output_type": "display_data"
    }
   ],
   "source": [
    "# Matrizes de rigidez geométricas in N/m\n",
    "K22 = stiffness(L22, EI=EI, P=-P22/10)\n",
    "K30 = stiffness(L30, EI=EI, P=-P30/10)\n",
    "K38 = stiffness(L38, EI=EI, P=-P38/10)\n",
    "\n",
    "# Visualização das matrizes\n",
    "fig3, ax = plt.subplots(1, 3, figsize=(12,4))\n",
    "plt.suptitle('2nd Order Matrices', fontweight='bold', fontsize=16)\n",
    "\n",
    "hax0 = ax[0].imshow(K22); tax0 = ax[0].title.set_text(\"K for 22cm blade\")\n",
    "hax1 = ax[1].imshow(K30); tax1 = ax[1].title.set_text(\"K for 30cm blade\")\n",
    "hax2 = ax[2].imshow(K38); tax2 = ax[2].title.set_text(\"K for 38cm blade\")\n"
   ]
  },
  {
   "cell_type": "markdown",
   "metadata": {},
   "source": [
    "### 3.3. Matriz de massa consistente <a name=\"section_33\"></a> \n",
    "\n",
    "$$ \\mathbf{M} = \\frac{\\mu L}{420} \\; \n",
    "                \\left[ \\begin{array}{cccc}\n",
    "                 156  &  22L   &  54   & -13L   \\\\\n",
    "                 22L  &  4L^2  &  13L  & -3L^2  \\\\\n",
    "                 54   &  13L   &  156  & -22L   \\\\\n",
    "                -13L  & -3L^2  & -22L  &  4L^2\n",
    "                \\end{array} \\right] $$\n"
   ]
  },
  {
   "cell_type": "code",
   "execution_count": 6,
   "metadata": {},
   "outputs": [
    {
     "data": {
      "image/png": "[encoded data removed]",
      "text/plain": [
       "<Figure size 864x288 with 3 Axes>"
      ]
     },
     "metadata": {
      "needs_background": "light"
     },
     "output_type": "display_data"
    }
   ],
   "source": [
    "mu   = 2700*(0.020*0.0005)\n",
    "\n",
    "# Consistent masses in kg\n",
    "M22 = consistMass(L22, mu)\n",
    "M30 = consistMass(L30, mu)\n",
    "M38 = consistMass(L38, mu)\n",
    "\n",
    "# Visualização das matrizes\n",
    "fig4, ax = plt.subplots(1, 3, figsize=(12,4))\n",
    "plt.suptitle('Mass Matrices', fontweight='bold', fontsize=16)\n",
    "\n",
    "hax0 = ax[0].imshow(M22); tax0 = ax[0].title.set_text(\"M for 22cm blade\")\n",
    "hax1 = ax[1].imshow(M30); tax1 = ax[1].title.set_text(\"M for 30cm blade\")\n",
    "hax2 = ax[2].imshow(M38); tax2 = ax[2].title.set_text(\"M for 38cm blade\")\n"
   ]
  },
  {
   "cell_type": "markdown",
   "metadata": {},
   "source": [
    "### 3.4. Estimativa de frequências naturais <a name=\"section_34\"></a> \n",
    "\n",
    "\n"
   ]
  },
  {
   "cell_type": "code",
   "execution_count": 7,
   "metadata": {},
   "outputs": [
    {
     "data": {
      "image/png": "[encoded data removed]",
      "text/plain": [
       "<Figure size 864x432 with 3 Axes>"
      ]
     },
     "metadata": {
      "needs_background": "light"
     },
     "output_type": "display_data"
    }
   ],
   "source": [
    "import scipy.linalg as sc\n",
    "\n",
    "# For L = 22cm\n",
    "\n",
    "Z22  = L22.cumsum()[::-1]\n",
    "KT22 = K22[:-2,:-2]\n",
    "MT22 = M22[:-2,:-2]\n",
    "\n",
    "w22, Ph22  =  sc.eig(KT22, MT22)\n",
    "\n",
    "iw   = w22.argsort()\n",
    "w22  = w22[iw]\n",
    "Ph22 = Ph22[:,iw]\n",
    "wk22 = np.sqrt(np.real(w22)) \n",
    "fk22 = wk22/2/np.pi\n",
    "\n",
    "fig5, ax = plt.subplots(1, 3, figsize=(12,6))\n",
    "plt.suptitle('Vibration Modes', fontweight='bold', fontsize=16)\n",
    "\n",
    "for k in range(3):\n",
    "    \n",
    "    pk = Ph22[0:-1:2,k]        # retem somente a translação\n",
    "    pm = pk[0]                 # normaliza máxima amplitude unitária\n",
    "\n",
    "    ha = ax[k].plot(pk/pm, Z22);\n",
    "    tx = ax[k].title.set_text('Modo {0} :: fk = {1:4.2f}Hz'.format(k+1,fk22[k]))\n",
    "    \n",
    "    ax[k].axis([-1.5, 1.5, 0, Z22[0]])\n",
    "    ax[k].grid(True)\n"
   ]
  },
  {
   "cell_type": "markdown",
   "metadata": {},
   "source": [
    "## 4. Modelo experimental <a name=\"section_4\"></a> \n",
    "\n",
    "As a last example (example 3), we present an experimental model that represents\n",
    "an ideal 3-storey shear building. \n",
    "The model columns are regarded as massless and flexible, while the model \"_floors_\"\n",
    "are perfectly stiff and concentrate all building mass.\n",
    "The three degrees of freedom correspond to the horizontal displacements of each\n",
    "floor, numbered from top to bottom.\n",
    "\n",
    "According to the _displacements method_, the stiffness coeficients are the set of \n",
    "generalized forces that must be applied at each degree of freedom to impose a unit\n",
    "generalized displacement at each degree of freedom individually, as illustrated below:\n",
    "\n",
    "<img src=\"images/model3dof_stiffness.png\" alt=\"Model definitions\" width=\"580px\"/>\n",
    "\n",
    "Each single model columns consists of a steel strip which is 80mm long, 20mm wide \n",
    "and 0.5mm thick.\n",
    "Neglecting the rotation at the connections implies that the element stiffness \n",
    "coefficient is $k = 12EI/L^3$, as calculated in example 2.\n",
    "The displacements imposed to each degree of freedom must displace 2 or 4 columns,\n",
    "what leads to the stiffness matrix below:\n"
   ]
  },
  {
   "cell_type": "code",
   "execution_count": null,
   "metadata": {},
   "outputs": [],
   "source": []
  },
  {
   "cell_type": "markdown",
   "metadata": {},
   "source": [
    "Each model floor is made up of an aluminum profile filled with lead weighting 330g.\n",
    "Assigning this mass to each degree of freedom gives the lumped mass below:\n"
   ]
  },
  {
   "cell_type": "code",
   "execution_count": null,
   "metadata": {},
   "outputs": [],
   "source": []
  },
  {
   "cell_type": "markdown",
   "metadata": {},
   "source": [
    "## 5. Comparação de resultados <a name=\"section_5\"></a> \n",
    "\n",
    "\n"
   ]
  },
  {
   "cell_type": "code",
   "execution_count": null,
   "metadata": {},
   "outputs": [],
   "source": [
    "\n",
    "\n"
   ]
  },
  {
   "cell_type": "code",
   "execution_count": null,
   "metadata": {},
   "outputs": [],
   "source": []
  }
 ],
 "metadata": {
  "kernelspec": {
   "display_name": "Python 3",
   "language": "python",
   "name": "python3"
  },
  "language_info": {
   "codemirror_mode": {
    "name": "ipython",
    "version": 3
   },
   "file_extension": ".py",
   "mimetype": "text/x-python",
   "name": "python",
   "nbconvert_exporter": "python",
   "pygments_lexer": "ipython3",
   "version": "3.7.1"
  }
 },
 "nbformat": 4,
 "nbformat_minor": 2
}
