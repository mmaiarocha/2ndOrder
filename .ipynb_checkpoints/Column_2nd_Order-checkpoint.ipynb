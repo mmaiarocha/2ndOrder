{
 "cells": [
  {
   "cell_type": "markdown",
   "metadata": {},
   "source": [
    "Universidade Federal do Rio Grande do Sul (UFRGS)   \n",
    "Programa de Pós-Graduação em Engenharia Civil (PPGEC)   \n",
    "\n",
    "# Second Order Effect on Slender Towers Natural Vibration Frequency\n",
    "\n",
    "[1.   The stiffness and mass matrices](#section_1)  \n",
    "[1.1. Stiffness matrix from flexibility coefficients](#section_11)  \n",
    "[1.2. Lumped mass matrix](#section_12)  \n",
    "[2.   Beam finite element and interpolation functions](#section_2)  \n",
    "[2.1. Stiffness matrix for a beam element](#section_21)  \n",
    "[2.2. Consistent mass matrix for a beam element](#section_22)  \n",
    "[3.   Experimental model with 3 d.o.f.](#section_3)  \n",
    "[3.1. Stiffness matrix from displacements method](#section_31)  \n",
    "[2.2. Lumped mass matrix](#section_22)  \n",
    "[4.   Assignment](#section_4)  \n",
    "\n",
    "---\n",
    "_Prof. Marcelo M. Rocha, Dr.techn._ [(ORCID)](https://orcid.org/0000-0001-5640-1020)  \n",
    "_Porto Alegre, RS, Brazil_ \n"
   ]
  },
  {
   "cell_type": "code",
   "execution_count": 19,
   "metadata": {},
   "outputs": [],
   "source": [
    "# Importing Python modules required for this notebook\n",
    "# (this cell must be executed with \"shift+enter\" before any other Python cell)\n",
    "\n",
    "import numpy as np\n",
    "import matplotlib.pyplot as plt\n",
    "import pickle as pk\n"
   ]
  },
  {
   "cell_type": "markdown",
   "metadata": {},
   "source": [
    "## 1. Column finite element and interpolation functions <a name=\"section_2\"></a> \n",
    "\n",
    "### 2.1. Stiffness matrix for a beam element  <a name=\"section_21\"></a> \n",
    "\n",
    "In this section we derive the stiffness matrix for a very simple \n",
    "linear elastic straight beam element. \n",
    "This example is usefull to illustrate how inertial forces are accounted for \n",
    "on structural systems modelled with a finite number of degrees of freedom.\n",
    "In the figure below, the transversal displacement, $u(x)$ may be approximated by\n",
    "a set of displacements, $u_i$, at some control degrees of freedom (usually at the\n",
    "element boundaries), interpolated by a set of functions $\\varphi_i(x)$.\n",
    "\n",
    "<img src=\"images/interpolation.png\" alt=\"Isostatic truss\" width=\"540px\"/>\n",
    "\n",
    "The interpolation is carried out as a simple linear combination:\n",
    "\n",
    "$$ u(x) = \\sum_{i = 1}^{4}{u_i \\; \\varphi_i(x)} = \\vec{u}^{\\intercal} \\; \\vec{\\varphi}(x)$$\n",
    "\n",
    "where the control displacements and the interpolation functions has been\n",
    "arranged as column vectors.\n",
    "\n",
    "Now we recall that the elastic potential energy stored on a bended Bernoulli's \n",
    "beam is given by:\n",
    "\n",
    "$$ \\Pi = \\frac{1}{2} \\int{EI \\left[u^{\\prime\\prime}(x) \\right]^2 \\; dx} $$\n",
    "\n",
    "where $EI$ is the beam bending stiffness. \n",
    "Replacing the interpolated version of the transversal displacement gives:\n",
    "\n",
    "$$ \\left[u^{\\prime\\prime}(x) \\right]^2 = \n",
    "   \\sum_{i = 1}^{4} {u_i \\; \\varphi_i^{\\prime\\prime}(x)} \\cdot \n",
    "   \\sum_{j = 1}^{4} {u_j \\; \\varphi_j^{\\prime\\prime}(x)} =\n",
    "   \\vec{u}^{\\intercal} \\left[ \\vec{\\varphi}^{\\prime\\prime}(x) \\; \n",
    "                              \\vec{\\varphi}^{\\prime\\prime\\intercal}(x) \\right] \\vec{u}$$ \n",
    "\n",
    "Recognizing that the control displacements are not function of $x$ leads to:\n",
    "\n",
    "$$  \\Pi = \\frac{1}{2} \\; \\vec{u}^{\\intercal} \\left\\{  \n",
    "          \\int{EI \\left[ \\vec{\\varphi}^{\\prime\\prime}(x) \\; \n",
    "          \\vec{\\varphi}^{\\prime\\prime\\intercal}(x) \\right] dx}\n",
    "          \\right\\} \\vec{u} = \n",
    "          \\frac{1}{2} \\; \\vec{u}^{\\intercal} \\mathbf{K} \\,\\vec{u}$$ \n",
    "\n",
    "The expression between curl braces is the beam element stiffness matrix, whose\n",
    "elements are the stiffness coefficients calculated as:\n",
    "\n",
    "$$ k_{ij} = \\int{EI \\varphi_i^{\\prime\\prime}(x) \\varphi_j^{\\prime\\prime}(x)  \\; dx} $$ \n",
    "\n",
    "The coefficients accuracy depends on the accuracy of the interpolation functions.\n",
    "In the particular case of _Bernoulli's beam_ element, these functions can be the exact\n",
    "solution of the elastic deformation for the imposed displacements. \n",
    "Defining $\\xi = x/L$ these exact functions are:\n",
    "\n",
    "\\begin{align*}\n",
    "\\varphi_1(\\xi) &= 1 - 3\\xi^2 + 2\\xi^3 \\\\\n",
    "\\varphi_2(\\xi) &= L\\left(\\xi - 2\\xi^2 + \\xi^3 \\right) \\\\\n",
    "\\varphi_3(\\xi) &= 3\\xi^2 - 2\\xi^3 \\\\\n",
    "\\varphi_4(\\xi) &= L\\left(-\\xi^2 + \\xi^3 \\right)\n",
    "\\end{align*}\n",
    "\n",
    "Let us take a look on the respective Python plots (and let them defined as \n",
    "lambda functions):\n"
   ]
  },
  {
   "cell_type": "code",
   "execution_count": 24,
   "metadata": {},
   "outputs": [
    {
     "data": {
      "image/png": "[encoded data removed]",
      "text/plain": [
       "<Figure size 432x288 with 1 Axes>"
      ]
     },
     "metadata": {
      "needs_background": "light"
     },
     "output_type": "display_data"
    }
   ],
   "source": [
    "# Beam length discretization\n",
    "L  = 6\n",
    "x  = np.linspace(0, L, 200)\n",
    "\n",
    "# Defining a list of lambda functions\n",
    "phi = []\n",
    "phi.append(lambda xi:  1 - 3*xi*xi + 2*xi*xi*xi)\n",
    "phi.append(lambda xi:  L*(xi - 2*xi*xi + xi*xi*xi))\n",
    "phi.append(lambda xi:  3*xi*xi - 2*xi*xi*xi)\n",
    "phi.append(lambda xi:  L*(-xi*xi + xi*xi*xi ))\n",
    "\n",
    "# Plotting\n",
    "plt.figure(2, figsize=(6, 4), clear=True)\n",
    "\n",
    "for i in range(4):\n",
    "    plt.plot(x/L, phi[i](x/L))\n",
    "\n",
    "plt.legend(('phi_1','phi_2','phi_3','phi_4'))\n",
    "plt.xlim( 0.0, 1.0);  plt.xlabel('x') \n",
    "plt.ylim(-1.5, 2.5);  plt.ylabel('phi(x)') \n",
    "plt.grid(True)\n"
   ]
  },
  {
   "cell_type": "markdown",
   "metadata": {},
   "source": [
    "The curvatures are calculated by differentiating the interpolation functions twice\n",
    "(they are proportional to the corresponding bending moment diagrams):\n",
    "\n",
    "\\begin{align*}\n",
    "\\varphi^{\\prime\\prime}_1(\\xi) &= \\left(-6 + 12\\xi \\right)/L^2 \\\\\n",
    "\\varphi^{\\prime\\prime}_2(\\xi) &= \\left(-4 +  6\\xi \\right)/L   \\\\\n",
    "\\varphi^{\\prime\\prime}_3(\\xi) &= \\left( 6 - 12\\xi \\right)/L^2 \\\\\n",
    "\\varphi^{\\prime\\prime}_4(\\xi) &= \\left(-2 +  6\\xi \\right)/L  \n",
    "\\end{align*}\n",
    "\n",
    "The matrix elements can be numerically evaluated as follows:\n"
   ]
  },
  {
   "cell_type": "code",
   "execution_count": 25,
   "metadata": {},
   "outputs": [
    {
     "name": "stdout",
     "output_type": "stream",
     "text": [
      "[[ 12.   6. -12.   6.]\n",
      " [  6.   4.  -6.   2.]\n",
      " [-12.  -6.  12.  -6.]\n",
      " [  6.   2.  -6.   4.]]\n"
     ]
    }
   ],
   "source": [
    "L  = 1\n",
    "nL = 1000\n",
    "x  = np.linspace(0, L, nL)\n",
    "\n",
    "# Defining a list of lambda functions\n",
    "phixx = []\n",
    "phixx.append(lambda xi: (-6 + 12*xi)/L/L) \n",
    "phixx.append(lambda xi: (-4 +  6*xi)/L  ) \n",
    "phixx.append(lambda xi: ( 6 - 12*xi)/L/L) \n",
    "phixx.append(lambda xi: (-2 +  6*xi)/L  ) \n",
    "\n",
    "K = np.zeros((4,4))\n",
    "\n",
    "for ii in range(4):\n",
    "    for jj in range(4):\n",
    "        K[ii,jj] = np.trapz(phixx[ii](x)*phixx[jj](x), dx=L/nL)\n",
    "\n",
    "np.set_printoptions(precision=0)\n",
    "print(K)\n"
   ]
  },
  {
   "cell_type": "markdown",
   "metadata": {},
   "source": [
    "If the integrals are analytically solved for all coefficients, the beam stiffness matrix is:\n",
    "\n",
    "$$ \\mathbf{K} = \\frac{EI}{L^3} \\;\n",
    "                \\left[ \\begin{array}{cccc}\n",
    "                  12 &   6L   &  -12  &  6L   \\\\\n",
    "                  6L &   4L^2 &  -6L  &  2L^2 \\\\\n",
    "                 -12 &  -6L   &   12  & -6L   \\\\\n",
    "                  6L &   2L^2 &  -6L  &  4L^2\n",
    "                 \\end{array} \\right] $$\n",
    "\n",
    "For the sake of future examples, the code below let this matrix defined\n",
    "with some numerical values (example 2):\n"
   ]
  },
  {
   "cell_type": "code",
   "execution_count": 1,
   "metadata": {},
   "outputs": [
    {
     "ename": "NameError",
     "evalue": "name 'np' is not defined",
     "output_type": "error",
     "traceback": [
      "\u001b[0;31m---------------------------------------------------------------------------\u001b[0m",
      "\u001b[0;31mNameError\u001b[0m                                 Traceback (most recent call last)",
      "\u001b[0;32m<ipython-input-1-0a49a64e9e39>\u001b[0m in \u001b[0;36m<module>\u001b[0;34m\u001b[0m\n\u001b[1;32m      4\u001b[0m \u001b[0;34m\u001b[0m\u001b[0m\n\u001b[1;32m      5\u001b[0m \u001b[0;31m# Stiffness coefficients in N/m\u001b[0m\u001b[0;34m\u001b[0m\u001b[0;34m\u001b[0m\u001b[0;34m\u001b[0m\u001b[0m\n\u001b[0;32m----> 6\u001b[0;31m K2 = np.array([[ 12,   6*L,   -12,   6*L  ], \n\u001b[0m\u001b[1;32m      7\u001b[0m                \u001b[0;34m[\u001b[0m \u001b[0;36m6\u001b[0m\u001b[0;34m*\u001b[0m\u001b[0mL\u001b[0m\u001b[0;34m,\u001b[0m  \u001b[0;36m4\u001b[0m\u001b[0;34m*\u001b[0m\u001b[0mL\u001b[0m\u001b[0;34m*\u001b[0m\u001b[0mL\u001b[0m\u001b[0;34m,\u001b[0m \u001b[0;34m-\u001b[0m\u001b[0;36m6\u001b[0m\u001b[0;34m*\u001b[0m\u001b[0mL\u001b[0m\u001b[0;34m,\u001b[0m  \u001b[0;36m2\u001b[0m\u001b[0;34m*\u001b[0m\u001b[0mL\u001b[0m\u001b[0;34m*\u001b[0m\u001b[0mL\u001b[0m\u001b[0;34m]\u001b[0m\u001b[0;34m,\u001b[0m\u001b[0;34m\u001b[0m\u001b[0;34m\u001b[0m\u001b[0m\n\u001b[1;32m      8\u001b[0m                \u001b[0;34m[\u001b[0m\u001b[0;34m-\u001b[0m\u001b[0;36m12\u001b[0m\u001b[0;34m,\u001b[0m  \u001b[0;34m-\u001b[0m\u001b[0;36m6\u001b[0m\u001b[0;34m*\u001b[0m\u001b[0mL\u001b[0m\u001b[0;34m*\u001b[0m\u001b[0mL\u001b[0m\u001b[0;34m,\u001b[0m  \u001b[0;36m12\u001b[0m\u001b[0;34m,\u001b[0m  \u001b[0;34m-\u001b[0m\u001b[0;36m6\u001b[0m\u001b[0;34m*\u001b[0m\u001b[0mL\u001b[0m\u001b[0;34m*\u001b[0m\u001b[0mL\u001b[0m\u001b[0;34m]\u001b[0m\u001b[0;34m,\u001b[0m\u001b[0;34m\u001b[0m\u001b[0;34m\u001b[0m\u001b[0m\n",
      "\u001b[0;31mNameError\u001b[0m: name 'np' is not defined"
     ]
    }
   ],
   "source": [
    "## steel blade with 2cm width and 0.5mm thickness\n",
    "L  = 0.40   # 0.32  # 0.24\n",
    "EI = 2.05e11*(0.02*0.005**3)/12\n",
    "\n",
    "# Stiffness coefficients in N/m\n",
    "K2 = np.array([[ 12,   6*L,   -12,   6*L  ], \n",
    "               [ 6*L,  4*L*L, -6*L,  2*L*L], \n",
    "               [-12,  -6*L*L,  12,  -6*L*L], \n",
    "               [ 6*L,  2*L*L, -6*L,  4*L*L]])*(EI/L/L/L) \n",
    "\n",
    "print('Bending stiffness: {0:5.2f}Nm2'.format(EI))\n"
   ]
  },
  {
   "cell_type": "markdown",
   "metadata": {},
   "source": [
    "### 2.2. Consistent mass matrix for a beam element  <a name=\"section_22\"></a> \n",
    "\n",
    "After evaluating the beam element stiffness matrix, one can follow the same procedure for\n",
    "evaluating the corresponding mass matrix. \n",
    "If now the beam has time dependent transversal displacements, its total kinetic energy\n",
    "at a given time instant is:\n",
    "\n",
    "$$ T = \\frac{1}{2} \\int{\\mu \\, \\left[\\dot{u}(x) \\right]^2 \\; dx} $$\n",
    "\n",
    "where $\\mu$ is the beam mass per unit length. \n",
    "Replacing the interpolated version of the transversal displacement gives:\n",
    "\n",
    "$$ \\left[ \\dot{u}(x) \\right]^2 = \n",
    "   \\sum_{i = 1}^{4} {\\dot{u}_i \\; \\varphi_i(x)} \\cdot \n",
    "   \\sum_{j = 1}^{4} {\\dot{u}_j \\; \\varphi_j(x)} =\n",
    "   \\dot{\\vec{u}}^{\\intercal} \\left[ \\vec{\\varphi}(x) \\; \n",
    "   \\vec{\\varphi}^{\\intercal}(x) \\right] \\dot{\\vec{u}}$$ \n",
    "\n",
    "Recognizing that the control displacements are not function of $x$ leads to:\n",
    "\n",
    "$$  T = \\frac{1}{2} \\; \\dot{\\vec{u}}^{\\intercal} \\left\\{  \n",
    "          \\int{\\mu \\left[ \\vec{\\varphi}(x) \\; \n",
    "          \\vec{\\varphi}^{\\intercal}(x) \\right] dx}\n",
    "        \\right\\} \\dot{\\vec{u}} = \n",
    "        \\frac{1}{2} \\; \\dot{\\vec{u}}^{\\intercal} \\mathbf{M} \\, \\dot{\\vec{u}}$$ \n",
    "\n",
    "The expression between curl braces is the beam element _consistent_ mass matrix, whose\n",
    "elements are calculated as:\n",
    "\n",
    "$$ m_{ij} = \\int{\\mu \\; \\varphi_i(x) \\varphi_j(x)  \\; dx} $$ \n",
    "\n",
    "This mass matrix is called _consistent_ because _it is evaluated by using the\n",
    "same interpolation functions_ that have been used to evaluate the stiffness matrix.\n",
    "These matrix elements can be numerically evaluated as follows:\n"
   ]
  },
  {
   "cell_type": "code",
   "execution_count": 27,
   "metadata": {},
   "outputs": [
    {
     "name": "stdout",
     "output_type": "stream",
     "text": [
      "[[156.  22.  54. -13.]\n",
      " [ 22.   4.  13.  -3.]\n",
      " [ 54.  13. 156. -22.]\n",
      " [-13.  -3. -22.   4.]]\n"
     ]
    }
   ],
   "source": [
    "L  = 1\n",
    "nL = 1000\n",
    "x  = np.linspace(0, L, nL)\n",
    "\n",
    "M  = np.zeros((4,4))\n",
    "\n",
    "for ii in range(4):\n",
    "    for jj in range(4):\n",
    "        M[ii,jj] = np.trapz(phi[ii](x)*phi[jj](x), dx=L/nL)\n",
    "\n",
    "np.set_printoptions(precision=0)\n",
    "print(420*M)\n"
   ]
  },
  {
   "cell_type": "markdown",
   "metadata": {},
   "source": [
    "In the particular case of Bernoulli's beam, after solving analytically the integrals above, \n",
    "the consistent mass matrix results:\n",
    "\n",
    "$$ \\mathbf{M} = \\frac{\\mu L}{420} \\; \n",
    "                \\left[ \\begin{array}{cccc}\n",
    "                 156  &  22L   &  54   & -13L   \\\\\n",
    "                 22L  &  4L^2  &  13L  & -3L^2  \\\\\n",
    "                  54  &  13L   &  156  & -22L   \\\\\n",
    "                -13L  & -3L^2  & -22L  &  4L^2\n",
    "                \\end{array} \\right] $$\n",
    "\n",
    "Let us define some numerical values for this matrix, completing example 2:\n"
   ]
  },
  {
   "cell_type": "code",
   "execution_count": 28,
   "metadata": {},
   "outputs": [
    {
     "name": "stdout",
     "output_type": "stream",
     "text": [
      "Mass per unit length: 0.260kg/m\n"
     ]
    }
   ],
   "source": [
    "## steel rod 1m length with 25mm diameter\n",
    "mu = 7850*(np.pi*0.0065**2)/4\n",
    "\n",
    "# Consistent masses in kg\n",
    "M2 = np.array([[ 156,   22*L,   54,   -13*L ], \n",
    "               [ 22*L,  4*L*L,  13*L, -3*L*L], \n",
    "               [ 54,    13*L,   156,  -22*L ], \n",
    "               [-13*L, -3*L*L, -22*L,  4*L*L]])*(mu*L/420) \n",
    "\n",
    "print('Mass per unit length: {0:5.3f}kg/m'.format(mu))\n"
   ]
  },
  {
   "cell_type": "markdown",
   "metadata": {},
   "source": [
    "## 3. Experimental model with 3 d.o.f. <a name=\"section_3\"></a> \n",
    "\n",
    "As a last example (example 3), we present an experimental model that represents\n",
    "an ideal 3-storey shear building. \n",
    "The model columns are regarded as massless and flexible, while the model \"_floors_\"\n",
    "are perfectly stiff and concentrate all building mass.\n",
    "The three degrees of freedom correspond to the horizontal displacements of each\n",
    "floor, numbered from top to bottom.\n",
    "\n",
    "<table>\n",
    " <tr>\n",
    "   <td><img src=\"images/model3dof.jpeg\" alt=\"Model with 3 d.o.f.\" width=\"160px\"/></td>\n",
    "   <td><img src=\"images/model3dof_definitions.png\" alt=\"Model definitions\" width=\"580px\"/></td>\n",
    " </tr>\n",
    "</table> \n",
    "\n",
    "According to the _displacements method_, the stiffness coeficients are the set of \n",
    "generalized forces that must be applied at each degree of freedom to impose a unit\n",
    "generalized displacement at each degree of freedom individually, as illustrated below:\n",
    "\n",
    "<img src=\"images/model3dof_stiffness.png\" alt=\"Model definitions\" width=\"580px\"/>\n",
    "\n",
    "Each single model columns consists of a steel strip which is 80mm long, 20mm wide \n",
    "and 0.5mm thick.\n",
    "Neglecting the rotation at the connections implies that the element stiffness \n",
    "coefficient is $k = 12EI/L^3$, as calculated in example 2.\n",
    "The displacements imposed to each degree of freedom must displace 2 or 4 columns,\n",
    "what leads to the stiffness matrix below:\n"
   ]
  },
  {
   "cell_type": "code",
   "execution_count": 29,
   "metadata": {},
   "outputs": [],
   "source": [
    "## steel rod 80x20x0.5mm\n",
    "L  = 0.081\n",
    "EI = 2.05e11*(0.02*0.0005**3)/12\n",
    "k  = 12*EI/L/L/L\n",
    "\n",
    "# Stiffness coefficients in N/m\n",
    "K3 = np.array([[ 2*k, -2*k,  0  ], \n",
    "               [-2*k,  4*k, -2*k], \n",
    "               [ 0,   -2*k,  4*k]])\n"
   ]
  },
  {
   "cell_type": "markdown",
   "metadata": {},
   "source": [
    "Each model floor is made up of an aluminum profile filled with lead weighting 330g.\n",
    "Assigning this mass to each degree of freedom gives the lumped mass below:\n"
   ]
  },
  {
   "cell_type": "code",
   "execution_count": 30,
   "metadata": {},
   "outputs": [],
   "source": [
    "# Lumped mass matrix in kg\n",
    "M3 = np.array([[0.33,  0.00,  0.00], \n",
    "               [0.00,  0.33,  0.00], \n",
    "               [0.00,  0.00,  0.33]])\n"
   ]
  },
  {
   "cell_type": "markdown",
   "metadata": {},
   "source": [
    "## 4. Assignments <a name=\"section_4\"></a> \n",
    "\n",
    "The stiffness and mass matrices generated in this class are know saved to disk,\n",
    "and will be available to the following classes:\n"
   ]
  },
  {
   "cell_type": "code",
   "execution_count": 31,
   "metadata": {},
   "outputs": [],
   "source": [
    "with open('data/sample_KM.pk', 'wb') as target:\n",
    "    pk.dump((K1, M1, K2, M2, K3, M3), target)\n"
   ]
  },
  {
   "cell_type": "code",
   "execution_count": null,
   "metadata": {},
   "outputs": [],
   "source": []
  }
 ],
 "metadata": {
  "kernelspec": {
   "display_name": "Python 3",
   "language": "python",
   "name": "python3"
  },
  "language_info": {
   "codemirror_mode": {
    "name": "ipython",
    "version": 3
   },
   "file_extension": ".py",
   "mimetype": "text/x-python",
   "name": "python",
   "nbconvert_exporter": "python",
   "pygments_lexer": "ipython3",
   "version": "3.7.1"
  }
 },
 "nbformat": 4,
 "nbformat_minor": 2
}
