{
 "cells": [
  {
   "cell_type": "markdown",
   "metadata": {},
   "source": [
    "Universidade Federal do Rio Grande do Sul (UFRGS)   \n",
    "Programa de Pós-Graduação em Engenharia Civil (PPGEC)   \n",
    "\n",
    "# Efeito de segunda ordem na frequência fundamental de torres esbeltas\n",
    "\n",
    "[1.   Introdução](#section_1)  \n",
    "[2.   Solução aproximada por quociente de Rayleigh](#section_2)  \n",
    "[3.   Solução numérica com matrix de rigidez geométrica](#section_3)  \n",
    "[4.   Modelo experimental](#section_4)  \n",
    "[5.   Comparação de resultados](#section_5)  \n",
    "[6.   Conclusões](#section_6)  \n",
    "\n",
    "---\n",
    "_Prof. Marcelo M. Rocha, Dr.techn._ [(ORCID)](https://orcid.org/0000-0001-5640-1020)  \n",
    "_Porto Alegre, RS, Brazil_ \n"
   ]
  },
  {
   "cell_type": "code",
   "execution_count": 1,
   "metadata": {},
   "outputs": [],
   "source": [
    "# Importing Python modules required for this notebook\n",
    "# (this cell must be executed with \"shift+enter\" before any other Python cell)\n",
    "\n",
    "import numpy as np\n",
    "import matplotlib.pyplot as plt\n",
    "import pickle as pk\n",
    "\n",
    "# Module for system matrices calculation\n",
    "from  FEM_column import *\n"
   ]
  },
  {
   "cell_type": "markdown",
   "metadata": {},
   "source": [
    "## 1. Introdução <a name=\"section_1\"></a> "
   ]
  },
  {
   "cell_type": "markdown",
   "metadata": {},
   "source": [
    "## 2. Solução aproximada por quociente de Rayleigh <a name=\"section_2\"></a> "
   ]
  },
  {
   "cell_type": "markdown",
   "metadata": {},
   "source": []
  },
  {
   "cell_type": "markdown",
   "metadata": {},
   "source": [
    "## 3. Solução numérica com matriz de rigidez geométrica <a name=\"section_3\"></a> \n",
    "\n",
    "### 3.1. Matriz de rigidez elástica  <a name=\"section_31\"></a> \n",
    "\n",
    "\n",
    "$$ \\mathbf{K} = \\frac{EI}{L^3} \\;\n",
    "                \\left[ \\begin{array}{cccc}\n",
    "                  12 &   6L   &  -12  &  6L   \\\\\n",
    "                  6L &   4L^2 &  -6L  &  2L^2 \\\\\n",
    "                 -12 &  -6L   &   12  & -6L   \\\\\n",
    "                  6L &   2L^2 &  -6L  &  4L^2\n",
    "                 \\end{array} \\right] $$\n"
   ]
  },
  {
   "cell_type": "code",
   "execution_count": 2,
   "metadata": {},
   "outputs": [
    {
     "name": "stdout",
     "output_type": "stream",
     "text": [
      "Trace for 22cm blade elastic matrix:  7.92M\n",
      "Trace for 30cm blade elastic matrix: 10.80M\n",
      "Trace for 38cm blade elastic matrix: 13.68M\n"
     ]
    },
    {
     "data": {
      "image/png": "[encoded data removed]",
      "text/plain": [
       "<Figure size 864x288 with 3 Axes>"
      ]
     },
     "metadata": {
      "needs_background": "light"
     },
     "output_type": "display_data"
    }
   ],
   "source": [
    "# Discretiza lâminas de alumínio\n",
    "EI  = 7.2e10*(0.020*0.0005**3)/12\n",
    "L22 = 0.01*np.ones(22)\n",
    "L30 = 0.01*np.ones(30)\n",
    "L38 = 0.01*np.ones(38)\n",
    "\n",
    "# Matrizes de rigidez elásticas in N/m\n",
    "KE22 = stiffness(L22, EI)\n",
    "KE30 = stiffness(L30, EI)\n",
    "KE38 = stiffness(L38, EI)\n",
    "\n",
    "# Visualização das matrizes\n",
    "fig1, ax = plt.subplots(1, 3, figsize=(12,4))\n",
    "plt.suptitle('Stiffness Matrices', fontweight='bold', fontsize=16)\n",
    "\n",
    "hax0 = ax[0].imshow(KE22); tax0 = ax[0].title.set_text(\"K for 22cm blade\")\n",
    "hax1 = ax[1].imshow(KE30); tax1 = ax[1].title.set_text(\"K for 30cm blade\")\n",
    "hax2 = ax[2].imshow(KE38); tax2 = ax[2].title.set_text(\"K for 38cm blade\")\n",
    "\n",
    "print('Trace for 22cm blade elastic matrix: {0:5.2f}M'.format(KE22.trace()/1e6))\n",
    "print('Trace for 30cm blade elastic matrix: {0:5.2f}M'.format(KE30.trace()/1e6))\n",
    "print('Trace for 38cm blade elastic matrix: {0:5.2f}M'.format(KE38.trace()/1e6))\n"
   ]
  },
  {
   "cell_type": "markdown",
   "metadata": {},
   "source": [
    "### 3.2. Matriz de rigidez geométrica <a name=\"section_32\"></a> \n",
    "\n",
    "$$ \\mathbf{K_{\\rm G}} = \\frac{P}{30L} \\; \n",
    "                        \\left[ \\begin{array}{cccc}\n",
    "                         36   &  3L    & -36  &  3L   \\\\\n",
    "                         3L   &  4L^2  & -3L  & -L^2  \\\\\n",
    "                        -36   & -3L    &  36  & -3L   \\\\\n",
    "                         3L   & -L^2   & -3L  & 4L^2\n",
    "                        \\end{array} \\right] $$\n"
   ]
  },
  {
   "cell_type": "code",
   "execution_count": 3,
   "metadata": {
    "scrolled": true
   },
   "outputs": [
    {
     "name": "stdout",
     "output_type": "stream",
     "text": [
      "Trace for 22cm blade geometric matrix: -0.05M\n",
      "Trace for 30cm blade geometric matrix: -0.07M\n",
      "Trace for 38cm blade geometric matrix: -0.09M\n"
     ]
    },
    {
     "data": {
      "image/png": "[encoded data removed]",
      "text/plain": [
       "<Figure size 864x288 with 3 Axes>"
      ]
     },
     "metadata": {
      "needs_background": "light"
     },
     "output_type": "display_data"
    }
   ],
   "source": [
    "# Carga axial constante de 100g, sem rigidez\n",
    "EI  =  0.0\n",
    "P   = -1.0*9.81\n",
    "\n",
    "# Matrizes de rigidez geométricas in N/m\n",
    "KG22 = stiffness(L22, EI, P)\n",
    "KG30 = stiffness(L30, EI, P)\n",
    "KG38 = stiffness(L38, EI, P)\n",
    "\n",
    "# Visualização das matrizes\n",
    "fig2, ax = plt.subplots(1, 3, figsize=(12,4))\n",
    "plt.suptitle('Geometric Matrices', fontweight='bold', fontsize=16)\n",
    "\n",
    "hax0 = ax[0].imshow(KG22); tax0 = ax[0].title.set_text(\"K for 22cm blade\")\n",
    "hax1 = ax[1].imshow(KG30); tax1 = ax[1].title.set_text(\"K for 30cm blade\")\n",
    "hax2 = ax[2].imshow(KG38); tax2 = ax[2].title.set_text(\"K for 38cm blade\")\n",
    "\n",
    "print('Trace for 22cm blade geometric matrix: {0:5.2f}M'.format(KG22.trace()/1e6))\n",
    "print('Trace for 30cm blade geometric matrix: {0:5.2f}M'.format(KG30.trace()/1e6))\n",
    "print('Trace for 38cm blade geometric matrix: {0:5.2f}M'.format(KG38.trace()/1e6))\n"
   ]
  },
  {
   "cell_type": "markdown",
   "metadata": {},
   "source": [
    "Sobrepondo as matrizes elástica e geométrica tem-se a matriz de rigidez com \n",
    "efeito de segunda ordem:\n"
   ]
  },
  {
   "cell_type": "code",
   "execution_count": 4,
   "metadata": {},
   "outputs": [
    {
     "name": "stdout",
     "output_type": "stream",
     "text": [
      "Trace for 22cm blade 2nd order matrix:  7.87M\n",
      "Trace for 30cm blade 2nd order matrix: 10.73M\n",
      "Trace for 38cm blade 2nd order matrix: 13.59M\n"
     ]
    },
    {
     "data": {
      "image/png": "[encoded data removed]",
      "text/plain": [
       "<Figure size 864x288 with 3 Axes>"
      ]
     },
     "metadata": {
      "needs_background": "light"
     },
     "output_type": "display_data"
    }
   ],
   "source": [
    "# Matrizes de rigidez geométricas in N/m\n",
    "K22 = KE22 + KG22\n",
    "K30 = KE30 + KG30\n",
    "K38 = KE38 + KG38\n",
    "\n",
    "# Visualização das matrizes\n",
    "fig3, ax = plt.subplots(1, 3, figsize=(12,4))\n",
    "plt.suptitle('2nd Order Matrices', fontweight='bold', fontsize=16)\n",
    "\n",
    "hax0 = ax[0].imshow(K22); tax0 = ax[0].title.set_text(\"K for 22cm blade\")\n",
    "hax1 = ax[1].imshow(K30); tax1 = ax[1].title.set_text(\"K for 30cm blade\")\n",
    "hax2 = ax[2].imshow(K38); tax2 = ax[2].title.set_text(\"K for 38cm blade\")\n",
    "\n",
    "print('Trace for 22cm blade 2nd order matrix: {0:5.2f}M'.format(K22.trace()/1e6))\n",
    "print('Trace for 30cm blade 2nd order matrix: {0:5.2f}M'.format(K30.trace()/1e6))\n",
    "print('Trace for 38cm blade 2nd order matrix: {0:5.2f}M'.format(K38.trace()/1e6))\n"
   ]
  },
  {
   "cell_type": "markdown",
   "metadata": {},
   "source": [
    "### 3.3. Matriz de massa consistente <a name=\"section_33\"></a> \n",
    "\n",
    "$$ \\mathbf{M} = \\frac{\\mu L}{420} \\; \n",
    "                \\left[ \\begin{array}{cccc}\n",
    "                 156  &  22L   &  54   & -13L   \\\\\n",
    "                 22L  &  4L^2  &  13L  & -3L^2  \\\\\n",
    "                 54   &  13L   &  156  & -22L   \\\\\n",
    "                -13L  & -3L^2  & -22L  &  4L^2\n",
    "                \\end{array} \\right] $$\n"
   ]
  },
  {
   "cell_type": "code",
   "execution_count": 5,
   "metadata": {},
   "outputs": [
    {
     "name": "stdout",
     "output_type": "stream",
     "text": [
      "[[156.  22.  54. -13.]\n",
      " [ 22.   4.  13.  -3.]\n",
      " [ 54.  13. 156. -22.]\n",
      " [-13.  -3. -22.  -4.]]\n"
     ]
    }
   ],
   "source": [
    "## steel rod 1m length with 25mm diameter\n",
    "mu = 2700*(np.pi*0.020*0.0005)\n",
    "\n",
    "# Consistent masses in kg\n",
    "M22 = consistMass(np.array([1]), mu)\n",
    "M30 = consistMass(L30, mu)\n",
    "M38 = consistMass(L38, mu)\n"
   ]
  },
  {
   "cell_type": "markdown",
   "metadata": {},
   "source": [
    "## 3. Experimental model with 3 d.o.f. <a name=\"section_3\"></a> \n",
    "\n",
    "As a last example (example 3), we present an experimental model that represents\n",
    "an ideal 3-storey shear building. \n",
    "The model columns are regarded as massless and flexible, while the model \"_floors_\"\n",
    "are perfectly stiff and concentrate all building mass.\n",
    "The three degrees of freedom correspond to the horizontal displacements of each\n",
    "floor, numbered from top to bottom.\n",
    "\n",
    "<table>\n",
    " <tr>\n",
    "   <td><img src=\"images/model3dof.jpeg\" alt=\"Model with 3 d.o.f.\" width=\"160px\"/></td>\n",
    "   <td><img src=\"images/model3dof_definitions.png\" alt=\"Model definitions\" width=\"580px\"/></td>\n",
    " </tr>\n",
    "</table> \n",
    "\n",
    "According to the _displacements method_, the stiffness coeficients are the set of \n",
    "generalized forces that must be applied at each degree of freedom to impose a unit\n",
    "generalized displacement at each degree of freedom individually, as illustrated below:\n",
    "\n",
    "<img src=\"images/model3dof_stiffness.png\" alt=\"Model definitions\" width=\"580px\"/>\n",
    "\n",
    "Each single model columns consists of a steel strip which is 80mm long, 20mm wide \n",
    "and 0.5mm thick.\n",
    "Neglecting the rotation at the connections implies that the element stiffness \n",
    "coefficient is $k = 12EI/L^3$, as calculated in example 2.\n",
    "The displacements imposed to each degree of freedom must displace 2 or 4 columns,\n",
    "what leads to the stiffness matrix below:\n"
   ]
  },
  {
   "cell_type": "code",
   "execution_count": null,
   "metadata": {},
   "outputs": [],
   "source": [
    "## steel rod 80x20x0.5mm\n",
    "L  = 0.081\n",
    "EI = 2.05e11*(0.02*0.0005**3)/12\n",
    "k  = 12*EI/L/L/L\n",
    "\n",
    "# Stiffness coefficients in N/m\n",
    "K3 = np.array([[ 2*k, -2*k,  0  ], \n",
    "               [-2*k,  4*k, -2*k], \n",
    "               [ 0,   -2*k,  4*k]])\n"
   ]
  },
  {
   "cell_type": "markdown",
   "metadata": {},
   "source": [
    "Each model floor is made up of an aluminum profile filled with lead weighting 330g.\n",
    "Assigning this mass to each degree of freedom gives the lumped mass below:\n"
   ]
  },
  {
   "cell_type": "code",
   "execution_count": null,
   "metadata": {},
   "outputs": [],
   "source": [
    "# Lumped mass matrix in kg\n",
    "M3 = np.array([[0.33,  0.00,  0.00], \n",
    "               [0.00,  0.33,  0.00], \n",
    "               [0.00,  0.00,  0.33]])\n"
   ]
  },
  {
   "cell_type": "markdown",
   "metadata": {},
   "source": [
    "## 4. Assignments <a name=\"section_4\"></a> \n",
    "\n",
    "The stiffness and mass matrices generated in this class are know saved to disk,\n",
    "and will be available to the following classes:\n"
   ]
  },
  {
   "cell_type": "code",
   "execution_count": null,
   "metadata": {},
   "outputs": [],
   "source": [
    "with open('data/sample_KM.pk', 'wb') as target:\n",
    "    pk.dump((K1, M1, K2, M2, K3, M3), target)\n"
   ]
  },
  {
   "cell_type": "code",
   "execution_count": null,
   "metadata": {},
   "outputs": [],
   "source": []
  }
 ],
 "metadata": {
  "kernelspec": {
   "display_name": "Python 3",
   "language": "python",
   "name": "python3"
  },
  "language_info": {
   "codemirror_mode": {
    "name": "ipython",
    "version": 3
   },
   "file_extension": ".py",
   "mimetype": "text/x-python",
   "name": "python",
   "nbconvert_exporter": "python",
   "pygments_lexer": "ipython3",
   "version": "3.7.1"
  }
 },
 "nbformat": 4,
 "nbformat_minor": 2
}
